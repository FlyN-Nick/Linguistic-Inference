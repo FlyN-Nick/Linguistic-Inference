{
 "cells": [
  {
   "cell_type": "code",
   "execution_count": 1,
   "metadata": {},
   "outputs": [],
   "source": [
    "import numpy as np"
   ]
  },
  {
   "cell_type": "code",
   "execution_count": 2,
   "metadata": {},
   "outputs": [
    {
     "name": "stdout",
     "output_type": "stream",
     "text": [
      "The history saving thread hit an unexpected error (OperationalError('attempt to write a readonly database')).History will not be written to the database.\n"
     ]
    }
   ],
   "source": [
    "alphabet = \"abcdefghijklmnopqrstuvwxyz\"\n",
    "symbols = {} # char to matrix"
   ]
  },
  {
   "cell_type": "code",
   "execution_count": 38,
   "metadata": {},
   "outputs": [],
   "source": [
    "# if neg = False, vals will be from 0-1, else -1 - 1\n",
    "def map_gen(neg=False, dim=2, alphabet=alphabet):\n",
    "    for char in alphabet:\n",
    "        symbols[char] = np.random.rand(dim, dim)\n",
    "    if neg:\n",
    "        for char in alphabet:\n",
    "            with np.nditer(symbols[char], op_flags=['readwrite']) as it:\n",
    "                for x in it:\n",
    "                    x[...] = 2 * x\n",
    "                    if x > 1:\n",
    "                        x[...] = 1 - x"
   ]
  },
  {
   "cell_type": "code",
   "execution_count": 40,
   "metadata": {},
   "outputs": [
    {
     "data": {
      "text/plain": [
       "{'a': array([[ 0.16740098, -0.72883985],\n",
       "        [-0.32239484,  0.78161024]]),\n",
       " 'b': array([[-0.52045111,  0.51950544],\n",
       "        [ 0.86871526,  0.24778984]]),\n",
       " 'c': array([[-0.19076346, -0.88282902],\n",
       "        [-0.49457668,  0.21251092]]),\n",
       " 'd': array([[0.70465159, 0.94470286],\n",
       "        [0.09424763, 0.85930931]]),\n",
       " 'e': array([[0.90973669, 0.20248705],\n",
       "        [0.12510089, 0.33631455]]),\n",
       " 'f': array([[-0.83790706,  0.88249816],\n",
       "        [ 0.89058348,  0.025376  ]]),\n",
       " 'g': array([[ 0.70043739, -0.52841935],\n",
       "        [ 0.56541595,  0.61903584]]),\n",
       " 'h': array([[-0.49030249,  0.46456478],\n",
       "        [-0.5286431 ,  0.57875816]]),\n",
       " 'i': array([[ 0.99764651, -0.54286446],\n",
       "        [ 0.2237164 , -0.38113561]]),\n",
       " 'j': array([[ 0.36418541,  0.99970043],\n",
       "        [-0.4430256 , -0.78799184]]),\n",
       " 'k': array([[-0.79260793,  0.63213843],\n",
       "        [-0.17178124, -0.17303649]]),\n",
       " 'l': array([[-0.85115159,  0.87540261],\n",
       "        [ 0.36291268, -0.92808666]]),\n",
       " 'm': array([[ 0.97194719,  0.62906643],\n",
       "        [-0.9348104 , -0.25059293]]),\n",
       " 'n': array([[-0.71012446,  0.03999778],\n",
       "        [-0.77108025,  0.43069353]]),\n",
       " 'o': array([[-0.47715497,  0.24474418],\n",
       "        [-0.13637705, -0.51263516]]),\n",
       " 'p': array([[ 0.66436106, -0.54985112],\n",
       "        [-0.94384965, -0.50184712]]),\n",
       " 'q': array([[-0.3004531 ,  0.71273719],\n",
       "        [-0.0289437 , -0.84636291]]),\n",
       " 'r': array([[-0.14544936, -0.1887609 ],\n",
       "        [-0.28910698, -0.16619098]]),\n",
       " 's': array([[-0.30287311, -0.31009396],\n",
       "        [-0.4711268 ,  0.50132423]]),\n",
       " 't': array([[-0.1623627 ,  0.48188474],\n",
       "        [ 0.42056682,  0.56106005]]),\n",
       " 'u': array([[-0.17360616,  0.13281619],\n",
       "        [ 0.26045878,  0.58258522]]),\n",
       " 'v': array([[-0.97631182,  0.43119214],\n",
       "        [-0.83624266,  0.90982622]]),\n",
       " 'w': array([[0.06383907, 0.32892676],\n",
       "        [0.29950307, 0.86324957]]),\n",
       " 'x': array([[-0.94143122,  0.13827029],\n",
       "        [ 0.2539077 ,  0.01476189]]),\n",
       " 'y': array([[-0.41020149, -0.49649034],\n",
       "        [-0.15807858,  0.00803037]]),\n",
       " 'z': array([[ 0.36802233, -0.32026589],\n",
       "        [ 0.40661561, -0.44166648]])}"
      ]
     },
     "execution_count": 40,
     "metadata": {},
     "output_type": "execute_result"
    }
   ],
   "source": [
    "map_gen(neg=-1)\n",
    "symbols"
   ]
  }
 ],
 "metadata": {
  "interpreter": {
   "hash": "b0fa6594d8f4cbf19f97940f81e996739fb7646882a419484c72d19e05852a7e"
  },
  "kernelspec": {
   "display_name": "Python 3.9.9 64-bit",
   "language": "python",
   "name": "python3"
  },
  "language_info": {
   "codemirror_mode": {
    "name": "ipython",
    "version": 3
   },
   "file_extension": ".py",
   "mimetype": "text/x-python",
   "name": "python",
   "nbconvert_exporter": "python",
   "pygments_lexer": "ipython3",
   "version": "3.9.9"
  },
  "orig_nbformat": 4
 },
 "nbformat": 4,
 "nbformat_minor": 2
}
