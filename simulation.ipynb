{
 "cells": [
  {
   "cell_type": "code",
   "execution_count": 1,
   "metadata": {},
   "outputs": [],
   "source": [
    "import numpy as np"
   ]
  },
  {
   "cell_type": "code",
   "execution_count": 2,
   "metadata": {},
   "outputs": [
    {
     "name": "stdout",
     "output_type": "stream",
     "text": [
      "The history saving thread hit an unexpected error (OperationalError('attempt to write a readonly database')).History will not be written to the database.\n"
     ]
    }
   ],
   "source": [
    "alphabet = \"abcdefghijklmnopqrstuvwxyz\"\n",
    "symbols = {} # char to matrix"
   ]
  },
  {
   "cell_type": "code",
   "execution_count": 41,
   "metadata": {},
   "outputs": [],
   "source": [
    "# if neg = False, vals will be from 0-1, else -1 - 1\n",
    "def map_gen(neg=False, mul=1, dim=2, alphabet=alphabet):\n",
    "    for char in alphabet:\n",
    "        symbols[char] = np.random.rand(dim, dim)\n",
    "    if neg:\n",
    "        for char in alphabet:\n",
    "            with np.nditer(symbols[char], op_flags=['readwrite']) as it:\n",
    "                for x in it:\n",
    "                    x[...] = 2 * x\n",
    "                    if x > 1:\n",
    "                        x[...] = 1 - x\n",
    "    if mul != 1:\n",
    "        for char in alphabet:\n",
    "            with np.nditer(symbols[char], op_flags=['readwrite']) as it:\n",
    "                for x in it:\n",
    "                    x[...] = x * mul"
   ]
  },
  {
   "cell_type": "code",
   "execution_count": 43,
   "metadata": {},
   "outputs": [
    {
     "data": {
      "text/plain": [
       "{'a': array([[-7.99087934, -5.73328281],\n",
       "        [ 0.14350582, -3.31134256]]),\n",
       " 'b': array([[ 2.4108946 , -8.46287355],\n",
       "        [ 8.51140473,  4.66056693]]),\n",
       " 'c': array([[-2.63896084,  6.03423312],\n",
       "        [-6.30587593,  6.20035043]]),\n",
       " 'd': array([[-6.49507244, -0.12202793],\n",
       "        [-4.12247952,  7.56998174]]),\n",
       " 'e': array([[ 8.97985869, -3.28309693],\n",
       "        [ 8.52721913,  6.92150345]]),\n",
       " 'f': array([[-2.88898573, -1.83574256],\n",
       "        [ 5.86371113,  8.09193385]]),\n",
       " 'g': array([[-2.13385045,  0.3382319 ],\n",
       "        [-3.24230141, -6.2539682 ]]),\n",
       " 'h': array([[-2.48589173,  2.87197325],\n",
       "        [-2.56579368,  8.35456101]]),\n",
       " 'i': array([[ 1.07602818, -0.93214248],\n",
       "        [ 4.38280624,  3.46524235]]),\n",
       " 'j': array([[ 9.17341374,  0.64129672],\n",
       "        [-1.50588891, -9.20556253]]),\n",
       " 'k': array([[-9.48576603,  4.12929537],\n",
       "        [-2.93647167,  6.42214408]]),\n",
       " 'l': array([[-0.69652339,  7.04247604],\n",
       "        [ 7.76534271, -0.2872828 ]]),\n",
       " 'm': array([[-6.70125976e+00,  6.52079590e+00],\n",
       "        [ 8.04537509e+00,  7.02454307e-03]]),\n",
       " 'n': array([[-0.84704133, -9.04344963],\n",
       "        [-0.57913351,  3.29271354]]),\n",
       " 'o': array([[ 2.43076661, -4.12115167],\n",
       "        [ 8.40206941,  9.84642338]]),\n",
       " 'p': array([[-4.62720372,  3.68227805],\n",
       "        [ 5.23655191, -7.05432726]]),\n",
       " 'q': array([[-1.02311773,  1.81793238],\n",
       "        [ 9.55946749, -3.47548348]]),\n",
       " 'r': array([[ 1.56708492, -7.24966575],\n",
       "        [ 4.35834037, -9.24888251]]),\n",
       " 's': array([[-7.59776196,  7.61168298],\n",
       "        [-9.28162931, -1.16624691]]),\n",
       " 't': array([[ 5.53501885, -4.1669988 ],\n",
       "        [ 1.21424875,  8.46070655]]),\n",
       " 'u': array([[ 4.81772118,  1.37061953],\n",
       "        [ 4.03194819, -0.23411799]]),\n",
       " 'v': array([[ 9.10125767, -6.5863329 ],\n",
       "        [ 5.80003494,  4.34045168]]),\n",
       " 'w': array([[ 2.35496931, -9.24016789],\n",
       "        [ 0.98926677, -9.30636894]]),\n",
       " 'x': array([[-0.49381429, -0.06251182],\n",
       "        [-1.16200111, -3.61887663]]),\n",
       " 'y': array([[ 3.87806829, -9.12513197],\n",
       "        [-6.69124936, -5.55478885]]),\n",
       " 'z': array([[-6.51742313, -2.38225686],\n",
       "        [-9.19679102, -5.70056677]])}"
      ]
     },
     "execution_count": 43,
     "metadata": {},
     "output_type": "execute_result"
    }
   ],
   "source": [
    "map_gen(neg=-1, mul=10)\n",
    "symbols"
   ]
  }
 ],
 "metadata": {
  "interpreter": {
   "hash": "b0fa6594d8f4cbf19f97940f81e996739fb7646882a419484c72d19e05852a7e"
  },
  "kernelspec": {
   "display_name": "Python 3.9.9 64-bit",
   "language": "python",
   "name": "python3"
  },
  "language_info": {
   "codemirror_mode": {
    "name": "ipython",
    "version": 3
   },
   "file_extension": ".py",
   "mimetype": "text/x-python",
   "name": "python",
   "nbconvert_exporter": "python",
   "pygments_lexer": "ipython3",
   "version": "3.9.9"
  },
  "orig_nbformat": 4
 },
 "nbformat": 4,
 "nbformat_minor": 2
}
